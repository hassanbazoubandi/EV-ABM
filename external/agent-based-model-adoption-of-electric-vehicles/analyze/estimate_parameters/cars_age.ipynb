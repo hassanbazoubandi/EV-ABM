{
 "cells": [
  {
   "cell_type": "markdown",
   "metadata": {},
   "source": [
    "# Analyze car paremeters"
   ]
  },
  {
   "cell_type": "markdown",
   "metadata": {},
   "source": [
    "I use data from [otomoto.pl](https://www.otomoto.pl/osobowe) acces on filename (carsDD_MM_YYYY_hh_mm.csv)"
   ]
  },
  {
   "cell_type": "markdown",
   "metadata": {},
   "source": [
    "Main goal of analyze is found driver profiles for model."
   ]
  },
  {
   "cell_type": "code",
   "execution_count": null,
   "metadata": {},
   "outputs": [],
   "source": [
    "import os\n",
    "import datetime\n",
    "import pandas as pd\n",
    "import seaborn as sns\n",
    "import matplotlib.pyplot as plt\n",
    "from utils import get_path_with, save_in\n",
    "\n",
    "CV = \"CV\"\n",
    "EV = \"BEV\"\n",
    "PHEV = \"PHEV\"\n",
    "car_types = [CV, PHEV, EV]"
   ]
  },
  {
   "cell_type": "markdown",
   "metadata": {},
   "source": [
    "### set plot params"
   ]
  },
  {
   "cell_type": "code",
   "execution_count": null,
   "metadata": {},
   "outputs": [],
   "source": [
    "# plt.style.use(\"grayscale\")\n",
    "# plt.style.use(\"dark_background\")\n",
    "plt.rc(\"grid\", alpha=0.3)\n",
    "plt.rc(\"text\", usetex=True)\n",
    "kde_params = {\n",
    "    \"fill\": True,\n",
    "    \"linewidth\": 1,\n",
    "    \"common_norm\": False,\n",
    "}\n",
    "\n",
    "hist_params = {\n",
    "    \"fill\": True,\n",
    "    \"linewidth\": 0,\n",
    "    \"common_norm\": False,\n",
    "    \"common_bins\": False,\n",
    "    \"kde\": True,\n",
    "    \"stat\": \"probability\",\n",
    "}"
   ]
  },
  {
   "cell_type": "markdown",
   "metadata": {},
   "source": [
    "### Set data"
   ]
  },
  {
   "cell_type": "code",
   "execution_count": null,
   "metadata": {},
   "outputs": [],
   "source": [
    "data_file = os.sep.join([get_path_with(\"data\"), \"data\", \"cars02_05_2023_01_21.csv\"])\n",
    "df = pd.read_csv(data_file)\n",
    "\n",
    "aliases = {\n",
    "    \"petrol\": CV,\n",
    "    \"diesel\": CV,\n",
    "    \"petrol-lpg\": CV,\n",
    "    \"petrol-cng\": CV,\n",
    "    \"electric\": EV,\n",
    "    \"hybrid\": PHEV,\n",
    "}\n",
    "\n",
    "df[\"type\"] = df[\"fuel_type\"].apply(lambda x: aliases[x])\n",
    "\n",
    "today_year = datetime.date.today().year\n",
    "today_year = 2023\n",
    "df[\"age\"] = df[\"year\"].apply(lambda x: today_year - x)\n",
    "\n",
    "df[\"mean_year_miliage\"] = df.apply(\n",
    "    lambda row: row[\"mileage\"] // row.age if row.age != 0 else None, axis=1\n",
    ")"
   ]
  },
  {
   "cell_type": "markdown",
   "metadata": {},
   "source": [
    "# Age car analise"
   ]
  },
  {
   "cell_type": "code",
   "execution_count": null,
   "metadata": {},
   "outputs": [],
   "source": [
    "suggest_shelf_life = {}\n",
    "\n",
    "for c_type in car_types:\n",
    "    suggest_shelf_life[c_type] = df[(df[\"type\"] == c_type) & (df[\"age\"] > 0)][\n",
    "        \"age\"\n",
    "    ].quantile(0.9)"
   ]
  },
  {
   "cell_type": "code",
   "execution_count": null,
   "metadata": {},
   "outputs": [],
   "source": [
    "fig, ax = plt.subplots(nrows=3, figsize=(10, 5))\n",
    "\n",
    "for i, c_type in enumerate(car_types):\n",
    "    sns.histplot(\n",
    "        df[(df[\"age\"] > 0) & (df[\"type\"] == c_type)],\n",
    "        ax=ax[i],\n",
    "        x=\"age\",\n",
    "        hue=\"type\",\n",
    "        **hist_params,\n",
    "    )\n",
    "    ax[i].axvline(x=suggest_shelf_life[c_type])\n",
    "\n",
    "fig.tight_layout()\n",
    "# plt.ylim([0,1])\n",
    "plt.xlim([0, 25])\n",
    "\n",
    "plt.title(\"Mean age of cars\");"
   ]
  },
  {
   "cell_type": "code",
   "execution_count": null,
   "metadata": {},
   "outputs": [],
   "source": [
    "fig, ax = plt.subplots(figsize=(5, 3))\n",
    "for i, c_type in enumerate(car_types):\n",
    "    ax.axhline(y=suggest_shelf_life[c_type], xmin=i / 3, xmax=(i + 1) / 3)\n",
    "sns.violinplot(\n",
    "    df[(df[\"age\"] < 30) & (df[\"age\"] > 0)],\n",
    "    ax=ax,\n",
    "    y=\"age\",\n",
    "    x=\"type\",\n",
    "    order=car_types,\n",
    ")\n",
    "ax.set_title(\"Car age in otomoto offers\")\n",
    "ax.legend([\"lifetime\"])"
   ]
  },
  {
   "cell_type": "code",
   "execution_count": null,
   "metadata": {},
   "outputs": [],
   "source": [
    "fig, ax = plt.subplots(figsize=(5, 3))\n",
    "for i, c_type in enumerate(car_types):\n",
    "    ax.axhline(y=suggest_shelf_life[c_type], xmin=i / 3, xmax=(i + 1) / 3)\n",
    "sns.boxplot(\n",
    "    df[(df[\"age\"] < 30) & (df[\"age\"] > 0)],\n",
    "    ax=ax,\n",
    "    y=\"age\",\n",
    "    x=\"type\",\n",
    "    order=car_types,\n",
    ")\n",
    "ax.set_title(\"Car age in otomoto offers\")\n",
    "ax.legend([\"lifetime\"])\n",
    "save_in(\"carAge\", \"pictures\", fig)"
   ]
  },
  {
   "cell_type": "code",
   "execution_count": null,
   "metadata": {},
   "outputs": [],
   "source": [
    "suggest_shelf_life"
   ]
  }
 ],
 "metadata": {
  "kernelspec": {
   "display_name": "Python 3.11.3 ('magisterka-gfehrrZQ-py3.11')",
   "language": "python",
   "name": "python3"
  },
  "language_info": {
   "codemirror_mode": {
    "name": "ipython",
    "version": 3
   },
   "file_extension": ".py",
   "mimetype": "text/x-python",
   "name": "python",
   "nbconvert_exporter": "python",
   "pygments_lexer": "ipython3",
   "version": "3.11.4"
  },
  "orig_nbformat": 4,
  "vscode": {
   "interpreter": {
    "hash": "defc96318194b7231653b87f50e55fed5628e849e10c1aee8ce9b1b92a1b25b6"
   }
  }
 },
 "nbformat": 4,
 "nbformat_minor": 2
}
