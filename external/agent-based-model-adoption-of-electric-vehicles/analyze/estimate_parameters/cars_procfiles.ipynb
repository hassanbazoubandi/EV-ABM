{
 "cells": [
  {
   "cell_type": "markdown",
   "metadata": {},
   "source": [
    "# Analyze car paremeters"
   ]
  },
  {
   "cell_type": "markdown",
   "metadata": {},
   "source": [
    "I use data from [otomoto.pl](https://www.otomoto.pl/osobowe) acces on filename (carsDD_MM_YYYY_hh_mm.csv)"
   ]
  },
  {
   "cell_type": "markdown",
   "metadata": {},
   "source": [
    "Main goal of analyze is found driver profiles for model."
   ]
  },
  {
   "cell_type": "code",
   "execution_count": null,
   "metadata": {},
   "outputs": [],
   "source": [
    "import os\n",
    "import datetime\n",
    "import pandas as pd\n",
    "import seaborn as sns\n",
    "import matplotlib.pyplot as plt\n",
    "from utils import add_path, get_path_with, save_in\n",
    "\n",
    "add_path()\n",
    "from model import CV, EV, PHEV\n",
    "\n",
    "car_types = [CV, PHEV, EV]"
   ]
  },
  {
   "cell_type": "markdown",
   "metadata": {},
   "source": [
    "### set plot params"
   ]
  },
  {
   "cell_type": "code",
   "execution_count": null,
   "metadata": {},
   "outputs": [],
   "source": [
    "# plt.style.use(\"dark_background\")\n",
    "# plt.style.use(\"grayscale\")\n",
    "plt.rc(\"grid\", alpha=0.3)\n",
    "plt.rc(\"text\", usetex=True)\n",
    "\n",
    "kde_params = {\n",
    "    \"fill\": True,\n",
    "    \"linewidth\": 1,\n",
    "    \"common_norm\": False,\n",
    "}\n",
    "\n",
    "hist_params = {\n",
    "    \"fill\": True,\n",
    "    \"linewidth\": 0,\n",
    "    \"common_norm\": False,\n",
    "    \"common_bins\": False,\n",
    "    \"kde\": True,\n",
    "    \"stat\": \"density\",\n",
    "}"
   ]
  },
  {
   "cell_type": "markdown",
   "metadata": {},
   "source": [
    "### Set data"
   ]
  },
  {
   "cell_type": "code",
   "execution_count": null,
   "metadata": {},
   "outputs": [],
   "source": [
    "data_file = os.sep.join([get_path_with(\"data\"), \"data\", \"cars02_05_2023_01_21.csv\"])\n",
    "df = pd.read_csv(data_file)\n",
    "\n",
    "aliases = {\n",
    "    \"petrol\": CV,\n",
    "    \"diesel\": CV,\n",
    "    \"petrol-lpg\": CV,\n",
    "    \"petrol-cng\": CV,\n",
    "    \"electric\": EV,\n",
    "    \"hybrid\": PHEV,\n",
    "}\n",
    "\n",
    "df[\"type\"] = df[\"fuel_type\"].apply(lambda x: aliases[x])\n",
    "\n",
    "today_year = 2023\n",
    "df[\"age\"] = df[\"year\"].apply(lambda x: today_year - x)\n",
    "\n",
    "df[\"mean_year_mileage\"] = df.apply(\n",
    "    lambda row: row[\"mileage\"] // row.age if row.age != 0 else None, axis=1\n",
    ")\n",
    "df = df[df[\"age\"] < 30]"
   ]
  },
  {
   "cell_type": "code",
   "execution_count": null,
   "metadata": {},
   "outputs": [],
   "source": [
    "df[df[\"type\"] == CV].count()"
   ]
  },
  {
   "cell_type": "code",
   "execution_count": null,
   "metadata": {},
   "outputs": [],
   "source": [
    "df.describe()"
   ]
  },
  {
   "cell_type": "markdown",
   "metadata": {},
   "source": [
    "## initial car "
   ]
  },
  {
   "cell_type": "code",
   "execution_count": null,
   "metadata": {},
   "outputs": [],
   "source": [
    "sns.countplot(df[df[\"age\"] < 5], x=\"type\", order=[CV, PHEV, EV])\n",
    "initial_factorial = {}\n",
    "for c_type in car_types:\n",
    "    initial_factorial[c_type] = len(df[(df.type == c_type) & (df[\"age\"] < 5)]) / len(\n",
    "        df[df[\"age\"] < 5]\n",
    "    )\n",
    "    print(f'\"{c_type}\": {initial_factorial[c_type]}')"
   ]
  },
  {
   "cell_type": "markdown",
   "metadata": {},
   "source": [
    "## Mean miliage"
   ]
  },
  {
   "cell_type": "code",
   "execution_count": null,
   "metadata": {},
   "outputs": [],
   "source": [
    "suggest_profiles = {\n",
    "    CV: 14000,\n",
    "    PHEV: 8000,\n",
    "    EV: 3000,\n",
    "}"
   ]
  },
  {
   "cell_type": "code",
   "execution_count": null,
   "metadata": {},
   "outputs": [],
   "source": [
    "fig, ax = plt.subplots(figsize=(10, 5))\n",
    "sns.boxplot(df, y=\"age\", x=\"type\")\n",
    "\n",
    "plt.title(\"Car age\");"
   ]
  },
  {
   "cell_type": "code",
   "execution_count": null,
   "metadata": {},
   "outputs": [],
   "source": [
    "max_age = 5"
   ]
  },
  {
   "cell_type": "code",
   "execution_count": null,
   "metadata": {},
   "outputs": [],
   "source": [
    "fig, ax = plt.subplots(figsize=(16, 5))\n",
    "max_age_median = max_age\n",
    "\n",
    "median_mean_mileage = {\n",
    "    CV: df[(df[\"type\"] == CV) & (df[\"age\"] <= max_age_median)][\n",
    "        \"mean_year_mileage\"\n",
    "    ].median(),\n",
    "    EV: df[(df[\"type\"] == EV) & (df[\"age\"] <= max_age_median)][\n",
    "        \"mean_year_mileage\"\n",
    "    ].median(),\n",
    "    PHEV: df[(df[\"type\"] == PHEV) & (df[\"age\"] <= max_age_median)][\n",
    "        \"mean_year_mileage\"\n",
    "    ].median(),\n",
    "}\n",
    "\n",
    "hist_plot = sns.histplot(\n",
    "    df[(df[\"mean_year_mileage\"] < 75_000) & (df[\"age\"] <= max_age_median)],\n",
    "    x=\"mean_year_mileage\",\n",
    "    hue=\"type\",\n",
    "    **hist_params,\n",
    ")\n",
    "\n",
    "\n",
    "for key in suggest_profiles:\n",
    "    plt.axvline(x=median_mean_mileage[key], color=\"m\")\n",
    "\n",
    "\n",
    "plt.xlim([None, 35_000])\n",
    "plt.title(\"histplot of mean year miliage\")\n",
    "plt.xlabel(\"mean year miliage\");"
   ]
  },
  {
   "cell_type": "code",
   "execution_count": null,
   "metadata": {},
   "outputs": [],
   "source": [
    "fig, ax = plt.subplots(figsize=(5, 3))\n",
    "for i, key in enumerate(car_types):\n",
    "    plt.axhline(y=median_mean_mileage[key], xmin=i / 3, xmax=(i + 1) / 3)\n",
    "\n",
    "sns.violinplot(\n",
    "    df[(df[\"mean_year_mileage\"] < 100000) & (df[\"age\"] < max_age)],\n",
    "    y=\"mean_year_mileage\",\n",
    "    x=\"type\",\n",
    "    order=car_types,\n",
    ")\n",
    "\n",
    "plt.legend([\"median\"])\n",
    "plt.ylabel(\"average annual mileage\")\n",
    "plt.title(\"average annual mileage\")\n",
    "save_in(\"averageAnnualMileage\", \"pictures\", plt)"
   ]
  },
  {
   "cell_type": "code",
   "execution_count": null,
   "metadata": {},
   "outputs": [],
   "source": [
    "fig, ax = plt.subplots(figsize=(16, 5))\n",
    "\n",
    "\n",
    "sns.histplot(\n",
    "    df[(df[\"mean_year_mileage\"] < 75_000) & (df[\"age\"] <= max_age_median)],\n",
    "    x=\"mean_year_mileage\",\n",
    "    **hist_params,\n",
    ")\n",
    "\n",
    "for key in suggest_profiles:\n",
    "    plt.axvline(x=median_mean_mileage[key], color=\"m\")\n",
    "    # plt.axvline(x=suggest_profiles[key], color=\"y\")\n",
    "\n",
    "\n",
    "plt.xlim([None, 35_000])\n",
    "\n",
    "plt.title(\"KDE of mean year mileage\")\n",
    "plt.xlabel(\"mean year mileage\");"
   ]
  },
  {
   "cell_type": "code",
   "execution_count": null,
   "metadata": {},
   "outputs": [],
   "source": [
    "median_mean_mileage"
   ]
  },
  {
   "cell_type": "markdown",
   "metadata": {},
   "source": [
    "# Profiles distribution"
   ]
  },
  {
   "cell_type": "code",
   "execution_count": null,
   "metadata": {},
   "outputs": [],
   "source": [
    "sns.violinplot(df[(df[\"age\"] < max_age)], y=\"mean_year_mileage\")\n",
    "for key in suggest_profiles:\n",
    "    plt.axhline(y=median_mean_mileage[key], color=\"m\")"
   ]
  },
  {
   "cell_type": "code",
   "execution_count": null,
   "metadata": {},
   "outputs": [],
   "source": [
    "profiles_distribution = {}\n",
    "k = 9\n",
    "\n",
    "profiles_distribution[CV] = len(\n",
    "    df[\n",
    "        (df[\"age\"] < max_age)\n",
    "        & (\n",
    "            df.mean_year_mileage\n",
    "            > (median_mean_mileage[CV] * k + (10 - k) * median_mean_mileage[PHEV]) / 10\n",
    "        )\n",
    "    ]\n",
    ") / len(df[(df[\"age\"] < max_age)])\n",
    "\n",
    "profiles_distribution[EV] = len(\n",
    "    df[\n",
    "        (df[\"age\"] < max_age)\n",
    "        & (\n",
    "            df.mean_year_mileage\n",
    "            < (median_mean_mileage[EV] * k + (10 - k) * median_mean_mileage[PHEV]) / 10\n",
    "        )\n",
    "    ]\n",
    ") / len(df[(df[\"age\"] < max_age)])\n",
    "\n",
    "profiles_distribution[PHEV] = 1 - profiles_distribution[CV] - profiles_distribution[EV]"
   ]
  },
  {
   "cell_type": "code",
   "execution_count": null,
   "metadata": {},
   "outputs": [],
   "source": [
    "(median_mean_mileage[CV] * k + (10 - k) * median_mean_mileage[PHEV]) / 10"
   ]
  },
  {
   "cell_type": "code",
   "execution_count": null,
   "metadata": {},
   "outputs": [],
   "source": [
    "median_mean_mileage[CV]"
   ]
  },
  {
   "cell_type": "code",
   "execution_count": null,
   "metadata": {},
   "outputs": [],
   "source": [
    "median_mean_mileage"
   ]
  },
  {
   "cell_type": "code",
   "execution_count": null,
   "metadata": {},
   "outputs": [],
   "source": [
    "profiles_distribution"
   ]
  },
  {
   "cell_type": "code",
   "execution_count": null,
   "metadata": {},
   "outputs": [],
   "source": []
  }
 ],
 "metadata": {
  "kernelspec": {
   "display_name": "Python 3.11.3 ('magisterka-gfehrrZQ-py3.11')",
   "language": "python",
   "name": "python3"
  },
  "language_info": {
   "codemirror_mode": {
    "name": "ipython",
    "version": 3
   },
   "file_extension": ".py",
   "mimetype": "text/x-python",
   "name": "python",
   "nbconvert_exporter": "python",
   "pygments_lexer": "ipython3",
   "version": "3.11.4"
  },
  "orig_nbformat": 4,
  "vscode": {
   "interpreter": {
    "hash": "defc96318194b7231653b87f50e55fed5628e849e10c1aee8ce9b1b92a1b25b6"
   }
  }
 },
 "nbformat": 4,
 "nbformat_minor": 2
}
