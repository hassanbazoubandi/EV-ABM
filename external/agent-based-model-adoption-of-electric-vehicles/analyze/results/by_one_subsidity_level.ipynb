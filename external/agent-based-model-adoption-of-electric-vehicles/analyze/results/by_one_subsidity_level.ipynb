{
 "cells": [
  {
   "cell_type": "code",
   "execution_count": null,
   "metadata": {},
   "outputs": [],
   "source": [
    "import os\n",
    "import sys\n",
    "\n",
    "import matplotlib.pyplot as plt\n",
    "from utils import add_path, save_in\n",
    "\n",
    "add_path()\n",
    "\n",
    "from model import (\n",
    "    SocietyConstantsEnergyPrices,\n",
    "    GovernmentMixedStrategy,\n",
    "    GovernmentBuildChargingStation,\n",
    "    GovernmentProvidesSubsidies,\n",
    "    CV,\n",
    "    EV,\n",
    "    PHEV,\n",
    "    Car_EV,\n",
    ")\n",
    "from model.utils import (\n",
    "    get_trajectories,\n",
    "    common_params,\n",
    "    plot_intervals,\n",
    "    check_by,\n",
    "    plot_check_by,\n",
    ")\n",
    "from common import MC, T"
   ]
  },
  {
   "cell_type": "code",
   "execution_count": null,
   "metadata": {},
   "outputs": [],
   "source": [
    "N = common_params[\"kwargs\"][\"population\"]\n",
    "\n",
    "param = \"government\"\n",
    "legend_labels = [\n",
    "    \"0\",\n",
    "    \"62_500\",\n",
    "    \"83_000\",\n",
    "    \"100_000\",\n",
    "    \"125_000\",\n",
    "]\n",
    "\n",
    "\n",
    "class Gov1(GovernmentProvidesSubsidies):\n",
    "    def __init__(self) -> None:\n",
    "        super().__init__(one_subsidy_level=int(legend_labels[0]))\n",
    "\n",
    "\n",
    "class Gov2(GovernmentProvidesSubsidies):\n",
    "    def __init__(self) -> None:\n",
    "        super().__init__(one_subsidy_level=int(legend_labels[1]))\n",
    "\n",
    "\n",
    "class Gov3(GovernmentProvidesSubsidies):\n",
    "    def __init__(self) -> None:\n",
    "        super().__init__(one_subsidy_level=int(legend_labels[2]))\n",
    "\n",
    "\n",
    "class Gov4(GovernmentProvidesSubsidies):\n",
    "    def __init__(self) -> None:\n",
    "        super().__init__(one_subsidy_level=int(legend_labels[3]))\n",
    "\n",
    "\n",
    "class Gov5(GovernmentProvidesSubsidies):\n",
    "    def __init__(self) -> None:\n",
    "        super().__init__(one_subsidy_level=int(legend_labels[4]))\n",
    "\n",
    "\n",
    "param_list = [\n",
    "    Gov1(),\n",
    "    Gov2(),\n",
    "    Gov3(),\n",
    "    Gov4(),\n",
    "    Gov5(),\n",
    "]\n",
    "name = \"by_one_subs_level.png\"\n",
    "title = r\"Impact of the value of a single subsidy on the market shares.\""
   ]
  },
  {
   "cell_type": "code",
   "execution_count": null,
   "metadata": {},
   "outputs": [],
   "source": [
    "# common_params[\"kwargs\"][\"corporation_technological_progress\"] = 0.08\n",
    "common_params[\"kwargs\"]"
   ]
  },
  {
   "cell_type": "code",
   "execution_count": null,
   "metadata": {},
   "outputs": [],
   "source": [
    "values = check_by(\n",
    "    SocietyConstantsEnergyPrices,\n",
    "    common_params[\"kwargs\"],\n",
    "    param,\n",
    "    param_list,\n",
    "    T,\n",
    "    MC,\n",
    "    4,\n",
    ")"
   ]
  },
  {
   "cell_type": "code",
   "execution_count": null,
   "metadata": {},
   "outputs": [],
   "source": [
    "fig, axs = plt.subplots(nrows=3, figsize=(8, 8))\n",
    "plot_check_by(values, axs)\n",
    "\n",
    "for ax in axs:\n",
    "    ax.set_xlabel(\"Year\")\n",
    "    ax.grid()\n",
    "\n",
    "axs[0].set_title(CV)\n",
    "axs[1].set_title(EV)\n",
    "axs[2].set_title(PHEV)\n",
    "fig.tight_layout()\n",
    "\n",
    "fig.legend(\n",
    "    legend_labels,\n",
    "    title=\"single subsidy value\",\n",
    "    loc=\"lower center\",\n",
    "    bbox_to_anchor=(1 / 2, -0.05),\n",
    "    ncol=len(param),\n",
    ")\n",
    "\n",
    "save_in(name)"
   ]
  }
 ],
 "metadata": {
  "kernelspec": {
   "display_name": "Python 3.11.3 ('magisterka-gfehrrZQ-py3.11')",
   "language": "python",
   "name": "python3"
  },
  "language_info": {
   "codemirror_mode": {
    "name": "ipython",
    "version": 3
   },
   "file_extension": ".py",
   "mimetype": "text/x-python",
   "name": "python",
   "nbconvert_exporter": "python",
   "pygments_lexer": "ipython3",
   "version": "3.11.4"
  },
  "orig_nbformat": 4,
  "vscode": {
   "interpreter": {
    "hash": "defc96318194b7231653b87f50e55fed5628e849e10c1aee8ce9b1b92a1b25b6"
   }
  }
 },
 "nbformat": 4,
 "nbformat_minor": 2
}
