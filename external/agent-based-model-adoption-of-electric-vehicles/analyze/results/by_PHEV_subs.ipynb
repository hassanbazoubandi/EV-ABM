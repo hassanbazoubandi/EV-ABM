{
 "cells": [
  {
   "cell_type": "code",
   "execution_count": 1,
   "metadata": {},
   "outputs": [],
   "source": [
    "import os\n",
    "import sys\n",
    "\n",
    "import matplotlib.pyplot as plt\n",
    "from utils import add_path, save_in\n",
    "\n",
    "add_path()\n",
    "\n",
    "from model import (\n",
    "    SocietyConstantsEnergyPrices,\n",
    "    GovernmentMixedStrategy,\n",
    "    GovernmentBuildChargingStation,\n",
    "    GovernmentProvidesSubsidies,\n",
    "    CV,\n",
    "    EV,\n",
    "    PHEV,\n",
    "    Car_EV,\n",
    ")\n",
    "from model.utils import (\n",
    "    get_trajectories,\n",
    "    common_params,\n",
    "    plot_intervals,\n",
    "    check_by,\n",
    "    plot_check_by,\n",
    ")\n",
    "from common import MC, T"
   ]
  },
  {
   "cell_type": "code",
   "execution_count": 2,
   "metadata": {},
   "outputs": [],
   "source": [
    "N = common_params[\"kwargs\"][\"population\"]\n",
    "\n",
    "param = \"government\"\n",
    "legend_labels = [\n",
    "    \"0\",\n",
    "    \"0.1\",\n",
    "    \"0.3\",\n",
    "    \"0.5\",\n",
    "    \"0.7\",\n",
    "]\n",
    "\n",
    "\n",
    "class Gov1(GovernmentProvidesSubsidies):\n",
    "    def __init__(self) -> None:\n",
    "        super().__init__(PHEV_sub_scaler=float(legend_labels[0]))\n",
    "\n",
    "\n",
    "class Gov2(GovernmentProvidesSubsidies):\n",
    "    def __init__(self) -> None:\n",
    "        super().__init__(PHEV_sub_scaler=float(legend_labels[1]))\n",
    "\n",
    "\n",
    "class Gov3(GovernmentProvidesSubsidies):\n",
    "    def __init__(self) -> None:\n",
    "        super().__init__(PHEV_sub_scaler=float(legend_labels[2]))\n",
    "\n",
    "\n",
    "class Gov4(GovernmentProvidesSubsidies):\n",
    "    def __init__(self) -> None:\n",
    "        super().__init__(PHEV_sub_scaler=float(legend_labels[3]))\n",
    "\n",
    "\n",
    "class Gov5(GovernmentProvidesSubsidies):\n",
    "    def __init__(self) -> None:\n",
    "        super().__init__(PHEV_sub_scaler=float(legend_labels[4]))\n",
    "\n",
    "\n",
    "param_list = [\n",
    "    Gov1(),\n",
    "    Gov2(),\n",
    "    Gov3(),\n",
    "    Gov4(),\n",
    "    Gov5(),\n",
    "]\n",
    "name = \"by_PHEV_scaler.png\"\n",
    "title = r\"Influence of different values of $\\rho$ on the market shares in the pss.\""
   ]
  },
  {
   "cell_type": "code",
   "execution_count": 3,
   "metadata": {},
   "outputs": [
    {
     "data": {
      "text/plain": [
       "{'alpha': 0.01,\n",
       " 'car_price_noise': <function model.utils.common_params.<lambda>()>,\n",
       " 'city_size': (17, 17),\n",
       " 'corporation_margin': 0.2,\n",
       " 'corporation_technological_progress': 0.004,\n",
       " 'energy_price': 500,\n",
       " 'energy_factor': 0.8,\n",
       " 'fuel_price': 6,\n",
       " 'government': <model.Government.GovernmentBuildChargingStation at 0x7f1c7a795650>,\n",
       " 'initial_public_chargers': 1,\n",
       " 'initial_time': (2015, 1),\n",
       " 'nerby_radius': 1,\n",
       " 'population': 3000}"
      ]
     },
     "execution_count": 3,
     "metadata": {},
     "output_type": "execute_result"
    }
   ],
   "source": [
    "# common_params[\"kwargs\"][\"corporation_technological_progress\"] = 0.08\n",
    "common_params[\"kwargs\"]"
   ]
  },
  {
   "cell_type": "code",
   "execution_count": 4,
   "metadata": {},
   "outputs": [
    {
     "name": "stderr",
     "output_type": "stream",
     "text": [
      "  0%|          | 0/5 [00:00<?, ?it/s]"
     ]
    }
   ],
   "source": [
    "values = check_by(\n",
    "    SocietyConstantsEnergyPrices,\n",
    "    common_params[\"kwargs\"],\n",
    "    param,\n",
    "    param_list,\n",
    "    T,\n",
    "    MC,\n",
    "    4,\n",
    ")"
   ]
  },
  {
   "cell_type": "code",
   "execution_count": null,
   "metadata": {},
   "outputs": [],
   "source": [
    "fig, axs = plt.subplots(nrows=3, figsize=(10, 6))\n",
    "plot_check_by(values, axs)\n",
    "\n",
    "# fig.suptitle(title, fontsize=16, y=1)\n",
    "\n",
    "for ax in axs:\n",
    "    ax.set_xlabel(\"Year\")\n",
    "    ax.grid()\n",
    "\n",
    "axs[0].set_title(CV)\n",
    "axs[1].set_title(EV)\n",
    "axs[2].set_title(PHEV)\n",
    "fig.tight_layout()\n",
    "fig.legend(\n",
    "    legend_labels,\n",
    "    title=\"PHEV subsidity scaler\",\n",
    "    loc=\"lower center\",\n",
    "    bbox_to_anchor=(1 / 2, -0.07),\n",
    "    ncol=len(param),\n",
    ")\n",
    "\n",
    "save_in(name)"
   ]
  },
  {
   "cell_type": "markdown",
   "metadata": {},
   "source": [
    "EV jest typowe dla MC przy pierwszych krokach symulacji.\n",
    "Przez nowość prawdopodobnie EV jest ponad stan infrastruktury.\n"
   ]
  },
  {
   "cell_type": "code",
   "execution_count": null,
   "metadata": {},
   "outputs": [],
   "source": [
    "# fig, axs = plt.subplots(nrows=3, figsize=(10, 9))\n",
    "\n",
    "# plot_intervals(\n",
    "#     year / 12,\n",
    "#     [trajectory / N for trajectory in CVs],\n",
    "#     ax=axs[0],\n",
    "#     color=\"c\",\n",
    "#     label=\"CV\",\n",
    "#     alpha=0.3,\n",
    "# )\n",
    "# plot_intervals(\n",
    "#     year / 12,\n",
    "#     [trajectory / N for trajectory in EVs],\n",
    "#     ax=axs[1],\n",
    "#     color=\"m\",\n",
    "#     label=\"EV\",\n",
    "#     alpha=0.3,\n",
    "# )\n",
    "# plot_intervals(\n",
    "#     year / 12,\n",
    "#     [trajectory / N for trajectory in PHEVs],\n",
    "#     ax=axs[2],\n",
    "#     color=\"y\",\n",
    "#     label=\"PHEV\",\n",
    "#     alpha=0.3,\n",
    "# )\n",
    "\n",
    "\n",
    "# axs[0].legend()\n",
    "# axs[1].legend()\n",
    "# axs[2].legend()\n",
    "\n",
    "# axs[0].set_title(\"CV\")\n",
    "# axs[1].set_title(\"EV\")\n",
    "# axs[2].set_title(\"PHEV\")\n",
    "\n",
    "# fig.suptitle(\"constatnt prices, government build chargers stations\", fontsize=16)"
   ]
  }
 ],
 "metadata": {
  "kernelspec": {
   "display_name": "Python 3.11.3 ('magisterka-gfehrrZQ-py3.11')",
   "language": "python",
   "name": "python3"
  },
  "language_info": {
   "codemirror_mode": {
    "name": "ipython",
    "version": 3
   },
   "file_extension": ".py",
   "mimetype": "text/x-python",
   "name": "python",
   "nbconvert_exporter": "python",
   "pygments_lexer": "ipython3",
   "version": "3.11.4"
  },
  "orig_nbformat": 4,
  "vscode": {
   "interpreter": {
    "hash": "defc96318194b7231653b87f50e55fed5628e849e10c1aee8ce9b1b92a1b25b6"
   }
  }
 },
 "nbformat": 4,
 "nbformat_minor": 2
}
