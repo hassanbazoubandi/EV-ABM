{
 "cells": [
  {
   "cell_type": "code",
   "execution_count": 1,
   "metadata": {},
   "outputs": [
    {
     "ename": "ModuleNotFoundError",
     "evalue": "No module named 'model'",
     "output_type": "error",
     "traceback": [
      "\u001b[0;31m---------------------------------------------------------------------------\u001b[0m",
      "\u001b[0;31mModuleNotFoundError\u001b[0m                       Traceback (most recent call last)",
      "Cell \u001b[0;32mIn[1], line 5\u001b[0m\n\u001b[1;32m      2\u001b[0m \u001b[38;5;28;01mimport\u001b[39;00m \u001b[38;5;21;01mmatplotlib\u001b[39;00m\u001b[38;5;21;01m.\u001b[39;00m\u001b[38;5;21;01mpyplot\u001b[39;00m \u001b[38;5;28;01mas\u001b[39;00m \u001b[38;5;21;01mplt\u001b[39;00m\n\u001b[1;32m      4\u001b[0m os\u001b[38;5;241m.\u001b[39mchdir(\u001b[38;5;124m\"\u001b[39m\u001b[38;5;124m..\u001b[39m\u001b[38;5;124m\"\u001b[39m)\n\u001b[0;32m----> 5\u001b[0m \u001b[38;5;28;01mfrom\u001b[39;00m \u001b[38;5;21;01mmodel\u001b[39;00m \u001b[38;5;28;01mimport\u001b[39;00m (\n\u001b[1;32m      6\u001b[0m     SocietyConstantsEnergyPrices,\n\u001b[1;32m      7\u001b[0m     GovernmentBuildChargingStation,\n\u001b[1;32m      8\u001b[0m     GovernmentCloseChargingStation,\n\u001b[1;32m      9\u001b[0m     CV,\n\u001b[1;32m     10\u001b[0m     EV,\n\u001b[1;32m     11\u001b[0m     PHEV,\n\u001b[1;32m     12\u001b[0m )\n\u001b[1;32m     13\u001b[0m \u001b[38;5;28;01mfrom\u001b[39;00m \u001b[38;5;21;01mmodel\u001b[39;00m\u001b[38;5;21;01m.\u001b[39;00m\u001b[38;5;21;01mutils\u001b[39;00m \u001b[38;5;28;01mimport\u001b[39;00m get_trajectories, common_params, plot_intervals\n",
      "\u001b[0;31mModuleNotFoundError\u001b[0m: No module named 'model'"
     ]
    }
   ],
   "source": [
    "import os\n",
    "import matplotlib.pyplot as plt\n",
    "\n",
    "os.chdir(\"..\")\n",
    "from model import (\n",
    "    SocietyConstantsEnergyPrices,\n",
    "    GovernmentBuildChargingStation,\n",
    "    GovernmentCloseChargingStation,\n",
    "    CV,\n",
    "    EV,\n",
    "    PHEV,\n",
    ")\n",
    "from model.utils import get_trajectories, common_params, plot_intervals\n",
    "from common import MC, T"
   ]
  },
  {
   "cell_type": "code",
   "execution_count": null,
   "metadata": {},
   "outputs": [],
   "source": [
    "plt.style.use(\"dark_background\")\n",
    "plt.rc(\"grid\", alpha=0.3)"
   ]
  },
  {
   "cell_type": "code",
   "execution_count": null,
   "metadata": {},
   "outputs": [],
   "source": [
    "N = common_params[\"kwargs\"][\"population\"]\n",
    "common_params[\"kwargs\"][\"government\"] = GovernmentCloseChargingStation()"
   ]
  },
  {
   "cell_type": "code",
   "execution_count": null,
   "metadata": {},
   "outputs": [],
   "source": [
    "common_params"
   ]
  },
  {
   "cell_type": "code",
   "execution_count": null,
   "metadata": {},
   "outputs": [],
   "source": [
    "[CVs, EVs, PHEVs, year] = get_trajectories(\n",
    "    SocietyConstantsEnergyPrices, common_params[\"kwargs\"], T, MC, 4\n",
    ")"
   ]
  },
  {
   "cell_type": "code",
   "execution_count": null,
   "metadata": {},
   "outputs": [],
   "source": [
    "fig, axs = plt.subplots(nrows=3, figsize=(10, 9))\n",
    "\n",
    "plot_intervals(\n",
    "    year / 12,\n",
    "    [trajectory / N for trajectory in CVs],\n",
    "    ax=axs[0],\n",
    "    color=\"c\",\n",
    "    label=\"CV\",\n",
    "    alpha=0.3,\n",
    ")\n",
    "plot_intervals(\n",
    "    year / 12,\n",
    "    [trajectory / N for trajectory in EVs],\n",
    "    ax=axs[1],\n",
    "    color=\"m\",\n",
    "    label=\"EV\",\n",
    "    alpha=0.3,\n",
    ")\n",
    "plot_intervals(\n",
    "    year / 12,\n",
    "    [trajectory / N for trajectory in PHEVs],\n",
    "    ax=axs[2],\n",
    "    color=\"y\",\n",
    "    label=\"PHEV\",\n",
    "    alpha=0.3,\n",
    ")\n",
    "\n",
    "\n",
    "axs[0].legend()\n",
    "axs[1].legend()\n",
    "axs[2].legend()\n",
    "\n",
    "axs[0].set_title(\"CV\")\n",
    "axs[1].set_title(\"EV\")\n",
    "axs[2].set_title(\"PHEV\")\n",
    "\n",
    "fig.suptitle(\"constatnt prices, government build chargers stations\", fontsize=16)"
   ]
  },
  {
   "cell_type": "code",
   "execution_count": null,
   "metadata": {},
   "outputs": [],
   "source": [
    "fig, axs = plt.subplots(ncols=3, figsize=(10, 5))\n",
    "import seaborn as sns\n",
    "\n",
    "sns.boxplot(\n",
    "    [line.loc[len(line) - 1] - line.loc[0] for line in CVs], ax=axs[0], color=\"c\"\n",
    ")\n",
    "axs[0].set_title(\"CV\")\n",
    "\n",
    "sns.boxplot(\n",
    "    [line.loc[len(line) - 1] - line.loc[0] for line in EVs], ax=axs[1], color=\"m\"\n",
    ")\n",
    "axs[1].set_title(\"EV\")\n",
    "\n",
    "sns.boxplot(\n",
    "    [line.loc[len(line) - 1] - line.loc[0] for line in PHEVs], ax=axs[2], color=\"y\"\n",
    ")\n",
    "axs[2].set_title(\"PHEV\")\n",
    "\n",
    "fig.suptitle(\"Distributoins of increase cars during model\", fontsize=16)"
   ]
  },
  {
   "cell_type": "code",
   "execution_count": null,
   "metadata": {},
   "outputs": [],
   "source": []
  }
 ],
 "metadata": {
  "kernelspec": {
   "display_name": "Python 3.11.3 ('magisterka-gfehrrZQ-py3.11')",
   "language": "python",
   "name": "python3"
  },
  "language_info": {
   "codemirror_mode": {
    "name": "ipython",
    "version": 3
   },
   "file_extension": ".py",
   "mimetype": "text/x-python",
   "name": "python",
   "nbconvert_exporter": "python",
   "pygments_lexer": "ipython3",
   "version": "3.11.3"
  },
  "orig_nbformat": 4,
  "vscode": {
   "interpreter": {
    "hash": "defc96318194b7231653b87f50e55fed5628e849e10c1aee8ce9b1b92a1b25b6"
   }
  }
 },
 "nbformat": 4,
 "nbformat_minor": 2
}
