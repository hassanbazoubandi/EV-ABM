{
 "cells": [
  {
   "cell_type": "code",
   "execution_count": null,
   "metadata": {},
   "outputs": [],
   "source": [
    "import os\n",
    "import matplotlib.pyplot as plt\n",
    "\n",
    "from utils import add_path, save_in\n",
    "\n",
    "add_path()\n",
    "from model import (\n",
    "    SocietyConstantsEnergyPrices,\n",
    "    GovernmentNoSubsidies,\n",
    "    CV,\n",
    "    EV,\n",
    "    PHEV,\n",
    ")\n",
    "from model.utils import get_trajectories, common_params, plot_intervals\n",
    "from common import MC, T, common_initial_settings\n",
    "\n",
    "common_initial_settings()"
   ]
  },
  {
   "cell_type": "code",
   "execution_count": null,
   "metadata": {},
   "outputs": [],
   "source": [
    "N = common_params[\"kwargs\"][\"population\"]\n",
    "common_params[\"kwargs\"][\"government\"] = GovernmentNoSubsidies()\n",
    "name = \"longHorizontClear\""
   ]
  },
  {
   "cell_type": "code",
   "execution_count": null,
   "metadata": {},
   "outputs": [],
   "source": [
    "common_params[\"kwargs\"]"
   ]
  },
  {
   "cell_type": "code",
   "execution_count": null,
   "metadata": {},
   "outputs": [],
   "source": [
    "[CVs, EVs, PHEVs, year] = get_trajectories(\n",
    "    SocietyConstantsEnergyPrices,\n",
    "    common_params[\"kwargs\"],\n",
    "    T,\n",
    "    MC,\n",
    "    4,\n",
    ")"
   ]
  },
  {
   "cell_type": "code",
   "execution_count": null,
   "metadata": {},
   "outputs": [],
   "source": [
    "fig, axs = plt.subplots(nrows=3, figsize=(10, 9))\n",
    "fig.suptitle(\"No subsidy Government.\", fontsize=16, y=1)\n",
    "\n",
    "plot_intervals(\n",
    "    year / 12,\n",
    "    [trajectory / N for trajectory in CVs],\n",
    "    ax=axs[0],\n",
    "    color=\"c\",\n",
    "    label=\"CV\",\n",
    "    alpha=0.3,\n",
    "    xlabel=\"Year\",\n",
    ")\n",
    "plot_intervals(\n",
    "    year / 12,\n",
    "    [trajectory / N for trajectory in EVs],\n",
    "    ax=axs[1],\n",
    "    color=\"m\",\n",
    "    label=\"EV\",\n",
    "    alpha=0.3,\n",
    "    xlabel=\"Year\",\n",
    ")\n",
    "plot_intervals(\n",
    "    year / 12,\n",
    "    [trajectory / N for trajectory in PHEVs],\n",
    "    ax=axs[2],\n",
    "    color=\"y\",\n",
    "    label=\"PHEV\",\n",
    "    alpha=0.3,\n",
    "    xlabel=\"Year\",\n",
    ")\n",
    "\n",
    "fig.set_facecolor(\"white\")\n",
    "fig.tight_layout()\n",
    "\n",
    "axs[0].legend()\n",
    "axs[1].legend()\n",
    "axs[2].legend()\n",
    "\n",
    "axs[0].set_title(\"CV\")\n",
    "axs[1].set_title(\"EV\")\n",
    "axs[2].set_title(\"PHEV\")\n",
    "\n",
    "save_in(name, fig=fig)"
   ]
  },
  {
   "cell_type": "code",
   "execution_count": null,
   "metadata": {},
   "outputs": [],
   "source": [
    "fig, axs = plt.subplots(ncols=3, figsize=(10, 5))\n",
    "import seaborn as sns\n",
    "\n",
    "sns.boxplot(\n",
    "    [line.loc[len(line) - 1] - line.loc[0] for line in CVs], ax=axs[0], color=\"c\"\n",
    ")\n",
    "axs[0].set_title(\"CV\")\n",
    "\n",
    "sns.boxplot(\n",
    "    [line.loc[len(line) - 1] - line.loc[0] for line in EVs], ax=axs[1], color=\"m\"\n",
    ")\n",
    "axs[1].set_title(\"EV\")\n",
    "\n",
    "sns.boxplot(\n",
    "    [line.loc[len(line) - 1] - line.loc[0] for line in PHEVs], ax=axs[2], color=\"y\"\n",
    ")\n",
    "axs[2].set_title(\"PHEV\")\n",
    "\n",
    "fig.suptitle(\"Distributoins of increase cars during model\", fontsize=16)"
   ]
  }
 ],
 "metadata": {
  "kernelspec": {
   "display_name": "Python 3.11.3 ('magisterka-gfehrrZQ-py3.11')",
   "language": "python",
   "name": "python3"
  },
  "language_info": {
   "codemirror_mode": {
    "name": "ipython",
    "version": 3
   },
   "file_extension": ".py",
   "mimetype": "text/x-python",
   "name": "python",
   "nbconvert_exporter": "python",
   "pygments_lexer": "ipython3",
   "version": "3.11.4"
  },
  "orig_nbformat": 4,
  "vscode": {
   "interpreter": {
    "hash": "defc96318194b7231653b87f50e55fed5628e849e10c1aee8ce9b1b92a1b25b6"
   }
  }
 },
 "nbformat": 4,
 "nbformat_minor": 2
}
