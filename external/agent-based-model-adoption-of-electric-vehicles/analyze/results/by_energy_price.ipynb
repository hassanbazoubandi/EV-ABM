{
    "cells": [
        {
            "cell_type": "code",
            "execution_count": null,
            "metadata": {},
            "outputs": [],
            "source": [
                "import os\n",
                "import matplotlib.pyplot as plt\n",
                "\n",
                "from utils import add_path, save_in\n",
                "\n",
                "\n",
                "add_path()\n",
                "\n",
                "from model import (\n",
                "    SocietyConstantsEnergyPrices,\n",
                "    GovernmentBuildChargingStation,\n",
                "    GovernmentMixedStrategy,\n",
                "    GovernmentProvidesSubsidies,\n",
                "    CV,\n",
                "    EV,\n",
                "    PHEV,\n",
                ")\n",
                "from model.utils import (\n",
                "    get_trajectories,\n",
                "    common_params,\n",
                "    plot_intervals,\n",
                "    check_by,\n",
                "    plot_check_by,\n",
                ")\n",
                "from common import MC, T\n"
            ]
        },
        {
            "cell_type": "code",
            "execution_count": null,
            "metadata": {},
            "outputs": [],
            "source": [
                "\n",
                "N = common_params[\"kwargs\"][\"population\"]\n",
                "\n",
                "param = \"energy_price\"\n",
                "param_list = [0,400, 600, 800]\n",
                "name = \"by_energy_price.png\"\n",
                "title = \"Impact of different energy prices on the market share of vehicles.\"\n",
                "\n",
                "common_params[\"kwargs\"][\"government\"] = GovernmentProvidesSubsidies()\n",
                "common_params"
            ]
        },
        {
            "cell_type": "code",
            "execution_count": null,
            "metadata": {},
            "outputs": [],
            "source": [
                "\n",
                "values = check_by(\n",
                "    SocietyConstantsEnergyPrices, common_params[\"kwargs\"], param, param_list, T, MC, 4\n",
                ")\n"
            ]
        },
        {
            "cell_type": "code",
            "execution_count": null,
            "metadata": {},
            "outputs": [],
            "source": [
                "fig, axs = plt.subplots(nrows=3, figsize=(10, 6))\n",
                "plot_check_by(values, axs)\n",
                "\n",
                "# fig.suptitle(title, fontsize=16, y=1)\n",
                "\n",
                "for ax in axs:\n",
                "    ax.set_xlabel(\"Year\")\n",
                "    ax.grid()\n",
                "\n",
                "axs[0].set_title(CV)\n",
                "axs[1].set_title(EV)\n",
                "axs[2].set_title(PHEV)\n",
                "fig.tight_layout()\n",
                "fig.legend(\n",
                "    param_list,\n",
                "    title=param.replace(\"_\", \" \"),\n",
                "    loc=\"lower center\",\n",
                "    bbox_to_anchor=(1/2, -0.07),\n",
                "    ncol=len(param),\n",
                ")\n",
                "\n",
                "save_in(name)\n"
            ]
        }
    ],
    "metadata": [
        {
            "kernelspec": {
                "display_name": "Python 3.8.10 64-bit",
                "language": "python",
                "name": "python3"
            },
            "language_info": {
                "codemirror_mode": {
                    "name": "ipython",
                    "version": 3
                },
                "file_extension": ".py",
                "mimetype": "text/x-python",
                "name": "python",
                "nbconvert_exporter": "python",
                "pygments_lexer": "ipython3",
                "version": "3.8.10"
            },
            "orig_nbformat": 4,
            "vscode": {
                "interpreter": {
                    "hash": "916dbcbb3f70747c44a77c7bcd40155683ae19c65e1c03b4aa3499c5328201f1"
                }
            }
        }
    ],
    "nbformat": [
        4
    ],
    "nbformat_minor": 2
}
