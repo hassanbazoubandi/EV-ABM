{
 "cells": [
  {
   "cell_type": "code",
   "execution_count": null,
   "metadata": {},
   "outputs": [],
   "source": [
    "import os\n",
    "import pandas as pd\n",
    "import numpy as np"
   ]
  },
  {
   "cell_type": "code",
   "execution_count": null,
   "metadata": {},
   "outputs": [],
   "source": [
    "get_full_path = lambda x: os.sep.join([\"..\", \"data\", x])\n",
    "output_file = get_full_path(\"fuel_price.csv\")\n",
    "input_file = get_full_path(\"fuel_price_raw.csv\")"
   ]
  },
  {
   "cell_type": "code",
   "execution_count": null,
   "metadata": {},
   "outputs": [],
   "source": [
    "column = [\"date\", \"price\"]\n",
    "\n",
    "\n",
    "with open(input_file, \"r\") as f:\n",
    "    df = pd.read_csv(f)\n",
    "df.columns = column\n",
    "\n",
    "\n",
    "# df = df[~df.price.isna()]\n",
    "\n",
    "df[\"year\"] = df[\"date\"].apply(lambda x: x.split(\"-\")[0])\n",
    "df[\"month\"] = df[\"date\"].apply(lambda x: x.split(\"-\")[1])\n",
    "df[\"day\"] = df[\"date\"].apply(lambda x: x.split(\"-\")[2])\n",
    "\n",
    "df = df[[\"year\", \"month\", \"day\", \"price\"]]"
   ]
  },
  {
   "cell_type": "code",
   "execution_count": null,
   "metadata": {},
   "outputs": [],
   "source": [
    "df.head()"
   ]
  },
  {
   "cell_type": "code",
   "execution_count": null,
   "metadata": {},
   "outputs": [],
   "source": [
    "df.to_csv(get_full_path(output_file))"
   ]
  }
 ],
 "metadata": {
  "kernelspec": {
   "display_name": "Python 3.11.3 ('magisterka-gfehrrZQ-py3.11')",
   "language": "python",
   "name": "python3"
  },
  "language_info": {
   "codemirror_mode": {
    "name": "ipython",
    "version": 3
   },
   "file_extension": ".py",
   "mimetype": "text/x-python",
   "name": "python",
   "nbconvert_exporter": "python",
   "pygments_lexer": "ipython3",
   "version": "3.11.3"
  },
  "orig_nbformat": 4,
  "vscode": {
   "interpreter": {
    "hash": "defc96318194b7231653b87f50e55fed5628e849e10c1aee8ce9b1b92a1b25b6"
   }
  }
 },
 "nbformat": 4,
 "nbformat_minor": 2
}
